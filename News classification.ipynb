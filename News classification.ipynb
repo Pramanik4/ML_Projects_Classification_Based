{
 "cells": [
  {
   "cell_type": "markdown",
   "id": "c0966aa2",
   "metadata": {},
   "source": [
    "# News Classification with Machine Learning"
   ]
  },
  {
   "cell_type": "markdown",
   "id": "88ad2a19",
   "metadata": {},
   "source": [
    "### import required libraries"
   ]
  },
  {
   "cell_type": "code",
   "execution_count": 1,
   "id": "353ae326",
   "metadata": {},
   "outputs": [],
   "source": [
    "import pandas as pd\n",
    "import seaborn as sb\n",
    "import matplotlib.pyplot as mp\n",
    "from sklearn.feature_extraction.text import CountVectorizer\n",
    "from sklearn.model_selection import train_test_split\n",
    "from sklearn.naive_bayes import MultinomialNB"
   ]
  },
  {
   "cell_type": "markdown",
   "id": "69e70466",
   "metadata": {},
   "source": [
    "### load the dataset using pandas"
   ]
  },
  {
   "cell_type": "code",
   "execution_count": 2,
   "id": "fca1b085",
   "metadata": {},
   "outputs": [],
   "source": [
    "dataset = pd.read_csv('news_classification.csv')"
   ]
  },
  {
   "cell_type": "markdown",
   "id": "bb3cf394",
   "metadata": {},
   "source": [
    "### just a glimpse of the data"
   ]
  },
  {
   "cell_type": "code",
   "execution_count": 3,
   "id": "7e570d1f",
   "metadata": {},
   "outputs": [
    {
     "data": {
      "text/html": [
       "<div>\n",
       "<style scoped>\n",
       "    .dataframe tbody tr th:only-of-type {\n",
       "        vertical-align: middle;\n",
       "    }\n",
       "\n",
       "    .dataframe tbody tr th {\n",
       "        vertical-align: top;\n",
       "    }\n",
       "\n",
       "    .dataframe thead th {\n",
       "        text-align: right;\n",
       "    }\n",
       "</style>\n",
       "<table border=\"1\" class=\"dataframe\">\n",
       "  <thead>\n",
       "    <tr style=\"text-align: right;\">\n",
       "      <th></th>\n",
       "      <th>news_headline</th>\n",
       "      <th>news_article</th>\n",
       "      <th>news_category</th>\n",
       "    </tr>\n",
       "  </thead>\n",
       "  <tbody>\n",
       "    <tr>\n",
       "      <th>0</th>\n",
       "      <td>50-year-old problem of biology solved by Artif...</td>\n",
       "      <td>DeepMind's AI system 'AlphaFold' has been reco...</td>\n",
       "      <td>technology</td>\n",
       "    </tr>\n",
       "    <tr>\n",
       "      <th>1</th>\n",
       "      <td>Microsoft Teams to stop working on Internet Ex...</td>\n",
       "      <td>Microsoft Teams will stop working on Internet ...</td>\n",
       "      <td>technology</td>\n",
       "    </tr>\n",
       "    <tr>\n",
       "      <th>2</th>\n",
       "      <td>Hope US won't erect barriers to cooperation: C...</td>\n",
       "      <td>China, in response to reports of US adding Chi...</td>\n",
       "      <td>technology</td>\n",
       "    </tr>\n",
       "    <tr>\n",
       "      <th>3</th>\n",
       "      <td>Global smartphone sales in Q3 falls 5.7% to 36...</td>\n",
       "      <td>The global smartphone sales in the third quart...</td>\n",
       "      <td>technology</td>\n",
       "    </tr>\n",
       "    <tr>\n",
       "      <th>4</th>\n",
       "      <td>EU hoping Biden will clarify US position on di...</td>\n",
       "      <td>The European Union (EU) is hoping that US Pres...</td>\n",
       "      <td>technology</td>\n",
       "    </tr>\n",
       "  </tbody>\n",
       "</table>\n",
       "</div>"
      ],
      "text/plain": [
       "                                       news_headline  \\\n",
       "0  50-year-old problem of biology solved by Artif...   \n",
       "1  Microsoft Teams to stop working on Internet Ex...   \n",
       "2  Hope US won't erect barriers to cooperation: C...   \n",
       "3  Global smartphone sales in Q3 falls 5.7% to 36...   \n",
       "4  EU hoping Biden will clarify US position on di...   \n",
       "\n",
       "                                        news_article news_category  \n",
       "0  DeepMind's AI system 'AlphaFold' has been reco...    technology  \n",
       "1  Microsoft Teams will stop working on Internet ...    technology  \n",
       "2  China, in response to reports of US adding Chi...    technology  \n",
       "3  The global smartphone sales in the third quart...    technology  \n",
       "4  The European Union (EU) is hoping that US Pres...    technology  "
      ]
     },
     "execution_count": 3,
     "metadata": {},
     "output_type": "execute_result"
    }
   ],
   "source": [
    "dataset.head()"
   ]
  },
  {
   "cell_type": "markdown",
   "id": "766be078",
   "metadata": {},
   "source": [
    "### check for total numbers of rows and columns"
   ]
  },
  {
   "cell_type": "code",
   "execution_count": 4,
   "id": "f0137885",
   "metadata": {},
   "outputs": [
    {
     "data": {
      "text/plain": [
       "(4817, 3)"
      ]
     },
     "execution_count": 4,
     "metadata": {},
     "output_type": "execute_result"
    }
   ],
   "source": [
    "dataset.shape"
   ]
  },
  {
   "cell_type": "markdown",
   "id": "d1106458",
   "metadata": {},
   "source": [
    "### just check for if null value exist"
   ]
  },
  {
   "cell_type": "code",
   "execution_count": 5,
   "id": "d26aaa08",
   "metadata": {},
   "outputs": [
    {
     "data": {
      "text/plain": [
       "news_headline    0\n",
       "news_article     0\n",
       "news_category    0\n",
       "dtype: int64"
      ]
     },
     "execution_count": 5,
     "metadata": {},
     "output_type": "execute_result"
    }
   ],
   "source": [
    "dataset.isnull().sum()"
   ]
  },
  {
   "cell_type": "markdown",
   "id": "d3e69dae",
   "metadata": {},
   "source": [
    "there is no null value in this dataset"
   ]
  },
  {
   "cell_type": "code",
   "execution_count": 6,
   "id": "3e0840b6",
   "metadata": {},
   "outputs": [
    {
     "data": {
      "text/plain": [
       "world            1021\n",
       "entertainment     998\n",
       "sports            856\n",
       "technology        751\n",
       "politics          546\n",
       "science           389\n",
       "automobile        256\n",
       "Name: news_category, dtype: int64"
      ]
     },
     "execution_count": 6,
     "metadata": {},
     "output_type": "execute_result"
    }
   ],
   "source": [
    "dataset['news_category'].value_counts()"
   ]
  },
  {
   "cell_type": "markdown",
   "id": "3f2c2622",
   "metadata": {},
   "source": [
    "### check for the data types"
   ]
  },
  {
   "cell_type": "code",
   "execution_count": 7,
   "id": "335e5572",
   "metadata": {},
   "outputs": [
    {
     "data": {
      "text/plain": [
       "news_headline    object\n",
       "news_article     object\n",
       "news_category    object\n",
       "dtype: object"
      ]
     },
     "execution_count": 7,
     "metadata": {},
     "output_type": "execute_result"
    }
   ],
   "source": [
    "dataset.dtypes"
   ]
  },
  {
   "cell_type": "markdown",
   "id": "2813583b",
   "metadata": {},
   "source": [
    "### drop the 1st column that is news_headline because it has no use "
   ]
  },
  {
   "cell_type": "code",
   "execution_count": 8,
   "id": "5ed73665",
   "metadata": {},
   "outputs": [],
   "source": [
    "dataset = dataset.drop('news_headline',axis=1)"
   ]
  },
  {
   "cell_type": "markdown",
   "id": "23879752",
   "metadata": {},
   "source": [
    "CountVectorizer we are converting raw text to a numerical vector representation of words and n-grams. This makes it easy to directly use this representation as features (signals) in Machine Learning tasks such as for text classification and clustering."
   ]
  },
  {
   "cell_type": "code",
   "execution_count": 9,
   "id": "ad772bd8",
   "metadata": {},
   "outputs": [
    {
     "data": {
      "application/javascript": [
       "\n",
       "        if (window._pyforest_update_imports_cell) { window._pyforest_update_imports_cell('import numpy as np'); }\n",
       "    "
      ],
      "text/plain": [
       "<IPython.core.display.Javascript object>"
      ]
     },
     "metadata": {},
     "output_type": "display_data"
    },
    {
     "data": {
      "application/javascript": [
       "\n",
       "        if (window._pyforest_update_imports_cell) { window._pyforest_update_imports_cell('import numpy as np'); }\n",
       "    "
      ],
      "text/plain": [
       "<IPython.core.display.Javascript object>"
      ]
     },
     "metadata": {},
     "output_type": "display_data"
    }
   ],
   "source": [
    "dataset = dataset[[\"news_article\",\"news_category\"]]\n",
    "\n",
    "x = np.array(dataset[\"news_article\"])\n",
    "Y = np.array(dataset[\"news_category\"])\n",
    "\n",
    "CountV = CountVectorizer()\n",
    "X = CountV.fit_transform(x)"
   ]
  },
  {
   "cell_type": "markdown",
   "id": "6c082211",
   "metadata": {},
   "source": [
    "### Train & Test Dataset"
   ]
  },
  {
   "cell_type": "code",
   "execution_count": 10,
   "id": "a3392016",
   "metadata": {},
   "outputs": [],
   "source": [
    "X_train, X_test, Y_train, Y_test = train_test_split(X, Y, test_size = 0.2, random_state=2)"
   ]
  },
  {
   "cell_type": "code",
   "execution_count": 11,
   "id": "48010d1e",
   "metadata": {},
   "outputs": [
    {
     "name": "stdout",
     "output_type": "stream",
     "text": [
      "(4817, 13167)\n"
     ]
    }
   ],
   "source": [
    "print(X.shape)"
   ]
  },
  {
   "cell_type": "markdown",
   "id": "0ed47a74",
   "metadata": {},
   "source": [
    "### Create a Multinominal Naive Bayes Model"
   ]
  },
  {
   "cell_type": "code",
   "execution_count": 12,
   "id": "833aa5f2",
   "metadata": {},
   "outputs": [],
   "source": [
    "model = MultinomialNB()"
   ]
  },
  {
   "cell_type": "code",
   "execution_count": 13,
   "id": "3ac52b6b",
   "metadata": {},
   "outputs": [
    {
     "data": {
      "text/plain": [
       "MultinomialNB()"
      ]
     },
     "execution_count": 13,
     "metadata": {},
     "output_type": "execute_result"
    }
   ],
   "source": [
    "model.fit(X_train,Y_train)"
   ]
  },
  {
   "cell_type": "markdown",
   "id": "f4ef7c26",
   "metadata": {},
   "source": [
    "### Check for Accuracy"
   ]
  },
  {
   "cell_type": "code",
   "execution_count": 16,
   "id": "3b249fb6",
   "metadata": {},
   "outputs": [
    {
     "data": {
      "text/plain": [
       "96.67791331430054"
      ]
     },
     "execution_count": 16,
     "metadata": {},
     "output_type": "execute_result"
    }
   ],
   "source": [
    "model.score(X_train,Y_train)*100"
   ]
  },
  {
   "cell_type": "markdown",
   "id": "90a0f56d",
   "metadata": {},
   "source": [
    "### Let's test this Model"
   ]
  },
  {
   "cell_type": "code",
   "execution_count": 14,
   "id": "ce5a9715",
   "metadata": {},
   "outputs": [
    {
     "name": "stdout",
     "output_type": "stream",
     "text": [
      "Enter News Article: Anushka Sharma took to social media to share a throwback picture of herself doing shirshasana during her pregnancy with the support of her husband Virat Kohli. \"[I] used the wall for support and also my very able husband supporting my balance, to be extra safe,\" she wrote. She added, \"I'm so glad I could continue my practice through my pregnancy.\"\n"
     ]
    },
    {
     "data": {
      "text/plain": [
       "array(['entertainment'], dtype='<U13')"
      ]
     },
     "execution_count": 14,
     "metadata": {},
     "output_type": "execute_result"
    }
   ],
   "source": [
    "user_input = input(\"Enter News Article: \")\n",
    "text = CountV.transform([user_input]).toarray()\n",
    "output = model.predict(text)\n",
    "output"
   ]
  },
  {
   "cell_type": "markdown",
   "id": "484b3356",
   "metadata": {},
   "source": [
    "Conclusion \n",
    "\n",
    "    - This dataset consists of news article and what kind of news it is about like sport, technology, etc.\n",
    "    - So, in this i have created a Multinomial Naive Bayes model.\n",
    "    - This model will take input from the user than this model will predict what kind of news it is."
   ]
  },
  {
   "cell_type": "code",
   "execution_count": null,
   "id": "1be3631b",
   "metadata": {},
   "outputs": [],
   "source": []
  }
 ],
 "metadata": {
  "kernelspec": {
   "display_name": "Python 3 (ipykernel)",
   "language": "python",
   "name": "python3"
  },
  "language_info": {
   "codemirror_mode": {
    "name": "ipython",
    "version": 3
   },
   "file_extension": ".py",
   "mimetype": "text/x-python",
   "name": "python",
   "nbconvert_exporter": "python",
   "pygments_lexer": "ipython3",
   "version": "3.9.12"
  }
 },
 "nbformat": 4,
 "nbformat_minor": 5
}
